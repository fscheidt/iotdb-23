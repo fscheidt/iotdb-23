{
  "nbformat": 4,
  "nbformat_minor": 0,
  "metadata": {
    "colab": {
      "provenance": []
    },
    "kernelspec": {
      "name": "python3",
      "display_name": "Python 3"
    },
    "language_info": {
      "name": "python"
    }
  },
  "cells": [
    {
      "cell_type": "code",
      "source": [
        "# @title install dependencies\n",
        "!pip install --quiet pymongo python-dotenv"
      ],
      "metadata": {
        "id": "9OEsFBGhy7Su"
      },
      "execution_count": 9,
      "outputs": []
    },
    {
      "cell_type": "code",
      "execution_count": 19,
      "metadata": {
        "id": "WmfEg1ECx1fP"
      },
      "outputs": [],
      "source": [
        "# @title Variáveis de ambiente\n",
        "resource = \"https://raw.githubusercontent.com/fscheidt/iotdb-23/master/dados/municipios.json\"\n",
        "filename = \"municipios.json\"\n",
        "env_file = \"/content/drive/MyDrive/Colab\\ Notebooks/.env\"\n",
        "\n",
        "db_name = \"geobr\"  # nome do banco de dados\n",
        "import os\n",
        "import dotenv\n",
        "dotenv.load_dotenv(env_file) # <= importa o .env\n",
        "URL = os.environ[\"db_url\"]\n",
        "# print(URL)"
      ]
    },
    {
      "cell_type": "code",
      "source": [
        "# !cat $env_file"
      ],
      "metadata": {
        "id": "ZdEJMHFy85_N"
      },
      "execution_count": 16,
      "outputs": []
    },
    {
      "cell_type": "code",
      "source": [
        "# @title download do arquivo para o colab\n",
        "!wget -O $filename $resource"
      ],
      "metadata": {
        "colab": {
          "base_uri": "https://localhost:8080/"
        },
        "id": "mTnuZ_URyt3l",
        "outputId": "15c3dd1e-87dd-4884-92a9-8cc6bde772ab"
      },
      "execution_count": 7,
      "outputs": [
        {
          "output_type": "stream",
          "name": "stdout",
          "text": [
            "--2023-10-24 22:31:22--  https://raw.githubusercontent.com/fscheidt/iotdb-23/master/dados/municipios.json\n",
            "Resolving raw.githubusercontent.com (raw.githubusercontent.com)... 185.199.108.133, 185.199.109.133, 185.199.110.133, ...\n",
            "Connecting to raw.githubusercontent.com (raw.githubusercontent.com)|185.199.108.133|:443... connected.\n",
            "HTTP request sent, awaiting response... 200 OK\n",
            "Length: 617848 (603K) [text/plain]\n",
            "Saving to: ‘municipios.json’\n",
            "\n",
            "\rmunicipios.json       0%[                    ]       0  --.-KB/s               \rmunicipios.json     100%[===================>] 603.37K  --.-KB/s    in 0.05s   \n",
            "\n",
            "2023-10-24 22:31:22 (12.3 MB/s) - ‘municipios.json’ saved [617848/617848]\n",
            "\n"
          ]
        }
      ]
    },
    {
      "cell_type": "code",
      "source": [
        "# @title conecta com o mongodb atlas\n",
        "from pymongo.mongo_client import MongoClient\n",
        "# deve ser importada de um arquivo de configuração (.env)\n",
        "client = MongoClient(URL)"
      ],
      "metadata": {
        "id": "yD6RCQHF13P-"
      },
      "execution_count": 18,
      "outputs": []
    }
  ]
}