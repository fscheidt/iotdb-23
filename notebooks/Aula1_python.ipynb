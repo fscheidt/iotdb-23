{
  "nbformat": 4,
  "nbformat_minor": 0,
  "metadata": {
    "colab": {
      "provenance": []
    },
    "kernelspec": {
      "name": "python3",
      "display_name": "Python 3"
    },
    "language_info": {
      "name": "python"
    }
  },
  "cells": [
    {
      "cell_type": "markdown",
      "source": [
        "**Introdução ao python no Colab**\n",
        "\n",
        "\n",
        "1.   Características do python\n",
        "2.   Executando código no colab\n",
        "\n"
      ],
      "metadata": {
        "id": "UY82y4t0ya9u"
      }
    },
    {
      "cell_type": "code",
      "source": [
        "print(\"Aula 1 - Teste com python\")"
      ],
      "metadata": {
        "colab": {
          "base_uri": "https://localhost:8080/"
        },
        "id": "-4pJWhYDxBRq",
        "outputId": "1dd40b10-7dab-4539-c925-6e13785325ea"
      },
      "execution_count": null,
      "outputs": [
        {
          "output_type": "stream",
          "name": "stdout",
          "text": [
            "Aula 1 - Teste com python\n"
          ]
        }
      ]
    },
    {
      "cell_type": "code",
      "execution_count": null,
      "metadata": {
        "colab": {
          "base_uri": "https://localhost:8080/"
        },
        "id": "aVbIUeyitFO4",
        "outputId": "ac2b7408-206e-4bb2-dfe7-97b3a477d664"
      },
      "outputs": [
        {
          "output_type": "stream",
          "name": "stdout",
          "text": [
            "2023-10-17 22:15:17.047844\n"
          ]
        }
      ],
      "source": [
        "# importa o pacote datetime do python\n",
        "from datetime import datetime\n",
        "print(datetime.now())"
      ]
    },
    {
      "cell_type": "markdown",
      "source": [
        "## Variáveis\n",
        "- Declaração de variáveis\n",
        "- Tipos de variáveis"
      ],
      "metadata": {
        "id": "XLL9jvz8zhFQ"
      }
    },
    {
      "cell_type": "code",
      "source": [
        "# declara a variavel idade e inicializa com 22\n",
        "idade = 22"
      ],
      "metadata": {
        "id": "2ejqs6-Lz334"
      },
      "execution_count": null,
      "outputs": []
    },
    {
      "cell_type": "code",
      "source": [
        "print(idade)\n",
        "idade = 23\n",
        "print(idade)"
      ],
      "metadata": {
        "colab": {
          "base_uri": "https://localhost:8080/"
        },
        "id": "UrsMS5XG0re-",
        "outputId": "5eb47b1a-337e-4432-dbcc-7049bbaf8e89"
      },
      "execution_count": null,
      "outputs": [
        {
          "output_type": "stream",
          "name": "stdout",
          "text": [
            "22\n",
            "23\n"
          ]
        }
      ]
    },
    {
      "cell_type": "code",
      "source": [
        "type(idade)"
      ],
      "metadata": {
        "colab": {
          "base_uri": "https://localhost:8080/"
        },
        "id": "ATmlmI8t12lR",
        "outputId": "526be178-ee04-4f41-845b-5ecf6e0e17d1"
      },
      "execution_count": null,
      "outputs": [
        {
          "output_type": "execute_result",
          "data": {
            "text/plain": [
              "int"
            ]
          },
          "metadata": {},
          "execution_count": 6
        }
      ]
    },
    {
      "cell_type": "code",
      "source": [
        "# declara variavel curso (string)\n",
        "curso = \"PosIot\"\n",
        "type(curso)"
      ],
      "metadata": {
        "colab": {
          "base_uri": "https://localhost:8080/"
        },
        "id": "A6gXja-O1MhC",
        "outputId": "99ac55b9-16a7-4231-8bc2-a8311e4032f7"
      },
      "execution_count": null,
      "outputs": [
        {
          "output_type": "execute_result",
          "data": {
            "text/plain": [
              "str"
            ]
          },
          "metadata": {},
          "execution_count": 7
        }
      ]
    },
    {
      "cell_type": "code",
      "source": [
        "# é possível alterar o tipo da variável\n",
        "# curso = 11\n",
        "# type(curso)"
      ],
      "metadata": {
        "id": "KoCA-tPL2Odh"
      },
      "execution_count": null,
      "outputs": []
    },
    {
      "cell_type": "code",
      "source": [
        "# tipo boolean\n",
        "is_open = True\n",
        "is_valid = False"
      ],
      "metadata": {
        "id": "Yui6ep1Z3F_n"
      },
      "execution_count": null,
      "outputs": []
    },
    {
      "cell_type": "code",
      "source": [
        "# declara tipo float\n",
        "pi = 3.1416"
      ],
      "metadata": {
        "id": "oqM7oInK34FI"
      },
      "execution_count": null,
      "outputs": []
    },
    {
      "cell_type": "markdown",
      "source": [
        "## Listas"
      ],
      "metadata": {
        "id": "FxEXisj0Cq8U"
      }
    },
    {
      "cell_type": "code",
      "source": [
        "# Lista / array / vetor\n",
        "compras = [\"arroz\", \"tomate\", \"batata\"]\n",
        "print(type(compras))\n",
        "compras"
      ],
      "metadata": {
        "colab": {
          "base_uri": "https://localhost:8080/"
        },
        "id": "d8zOz2Nr4D3g",
        "outputId": "0b9c8b6b-4dd3-4548-b63f-8201ce70d2e8"
      },
      "execution_count": null,
      "outputs": [
        {
          "output_type": "stream",
          "name": "stdout",
          "text": [
            "<class 'list'>\n"
          ]
        },
        {
          "output_type": "execute_result",
          "data": {
            "text/plain": [
              "['arroz', 'tomate', 'batata']"
            ]
          },
          "metadata": {},
          "execution_count": 11
        }
      ]
    },
    {
      "cell_type": "code",
      "source": [
        "# declara um vetor com diferentes tipos de variaveis\n",
        "items = [\"arroz\", 100, 1.12]\n",
        "items"
      ],
      "metadata": {
        "colab": {
          "base_uri": "https://localhost:8080/"
        },
        "id": "dqxyPLDN4xsE",
        "outputId": "77aa1296-ec12-47c0-a374-5165abee9e1d"
      },
      "execution_count": null,
      "outputs": [
        {
          "output_type": "execute_result",
          "data": {
            "text/plain": [
              "['arroz', 100, 1.12]"
            ]
          },
          "metadata": {},
          "execution_count": 12
        }
      ]
    },
    {
      "cell_type": "markdown",
      "source": [
        "## IF-else"
      ],
      "metadata": {
        "id": "Q3MGOyXBCv_j"
      }
    },
    {
      "cell_type": "code",
      "source": [
        "# teste da variavel is_open\n",
        "if is_open:\n",
        "  print(\"loja aberta\")\n",
        "  print(\"-----\")\n",
        "else:\n",
        "  print(\"loja fechada\")\n"
      ],
      "metadata": {
        "colab": {
          "base_uri": "https://localhost:8080/"
        },
        "id": "KREr36AO5pfN",
        "outputId": "acad85be-ec4c-4f30-f39e-044350c2d616"
      },
      "execution_count": null,
      "outputs": [
        {
          "output_type": "stream",
          "name": "stdout",
          "text": [
            "loja aberta\n",
            "-----\n"
          ]
        }
      ]
    },
    {
      "cell_type": "markdown",
      "source": [
        "## JSON\n",
        "\n",
        "Representação usando uma notação (formato) para descrever um objeto.\n",
        "\n",
        "### Representa PessoaFisica\n",
        "\n",
        "- Nome: Maria\n",
        "- Sobrenome: Silva\n",
        "- CPF\n",
        "- Endereço\n",
        "\n",
        "```json\n",
        "\n",
        "{\n",
        "  \"nome\": \"Maria\",\n",
        "  \"sobrenome\": \"Silva\",\n",
        "  \"cpf\": \"011.211.992-00\",\n",
        "  \"endereco\": {\n",
        "    \"rua\": \"Av. Brasil\",\n",
        "    \"numero\": 1500,\n",
        "    \"principal\": true\n",
        "  },\n",
        "  \"dependentes\": [\n",
        "    \"Julia\", \"Marcos\"\n",
        "  ]\n",
        "}\n",
        "\n",
        "```\n"
      ],
      "metadata": {
        "id": "v1m4Tje6Doye"
      }
    },
    {
      "cell_type": "code",
      "source": [],
      "metadata": {
        "id": "AcJuwLYsDnZn"
      },
      "execution_count": null,
      "outputs": []
    },
    {
      "cell_type": "markdown",
      "source": [
        "## Dicionários\n",
        "\n",
        "\n"
      ],
      "metadata": {
        "id": "NRpK87wmCjQu"
      }
    },
    {
      "cell_type": "markdown",
      "source": [
        "# Representação do JSON no python\n",
        "```\n",
        "Exemplo de um json de um Dispositivo\n",
        "coletando dados de sensores:\n",
        "{\n",
        "  \"device_id\": 1211,\n",
        "  \"sensors\": {\n",
        "    \"temperature\": [ 21, 21.2, 30, 33 ]\n",
        "  }\n",
        "}\n",
        "```"
      ],
      "metadata": {
        "id": "1pr3rVVbs2Ff"
      }
    },
    {
      "cell_type": "code",
      "source": [
        "# declara variavel 'device' do tipo dicionário\n",
        "device = {}\n",
        "# adiciona a chave 'id' e inicializa o valor\n",
        "device['id'] = 1211\n",
        "# adicionar chave sensors\n",
        "device['sensors'] = {}\n",
        "device['sensors']['temperature'] = [ 21, 21.2, 30, 33 ]\n",
        "device"
      ],
      "metadata": {
        "colab": {
          "base_uri": "https://localhost:8080/"
        },
        "id": "chA8OS4dv7av",
        "outputId": "5c61431d-8efe-4454-864f-53fe02f17519"
      },
      "execution_count": null,
      "outputs": [
        {
          "output_type": "execute_result",
          "data": {
            "text/plain": [
              "{'id': 1211, 'sensors': {'temperature': [21, 21.2, 30, 33]}}"
            ]
          },
          "metadata": {},
          "execution_count": 23
        }
      ]
    },
    {
      "cell_type": "code",
      "source": [
        "type(device)"
      ],
      "metadata": {
        "colab": {
          "base_uri": "https://localhost:8080/"
        },
        "id": "Uo6Gtf6NywHh",
        "outputId": "3c24a521-aeac-49bf-b028-a4e4e46717c5"
      },
      "execution_count": null,
      "outputs": [
        {
          "output_type": "execute_result",
          "data": {
            "text/plain": [
              "dict"
            ]
          },
          "metadata": {},
          "execution_count": 24
        }
      ]
    },
    {
      "cell_type": "markdown",
      "source": [
        "## Funções"
      ],
      "metadata": {
        "id": "mI6qpRKhC3Ly"
      }
    },
    {
      "cell_type": "code",
      "source": [
        "# imprimir informacoes do device\n",
        "def device_info(dev):\n",
        "    print(f\"Device info: {dev['id']}\")"
      ],
      "metadata": {
        "id": "H1QElwFkznu_"
      },
      "execution_count": null,
      "outputs": []
    },
    {
      "cell_type": "code",
      "source": [
        "# chama funcao passando variavel device como parametro\n",
        "device_info(device)"
      ],
      "metadata": {
        "colab": {
          "base_uri": "https://localhost:8080/"
        },
        "id": "ZgSNsAyT3EsV",
        "outputId": "cd141e1e-2ebb-460c-f971-03aea72bdb80"
      },
      "execution_count": null,
      "outputs": [
        {
          "output_type": "stream",
          "name": "stdout",
          "text": [
            "Device info: 1211\n"
          ]
        }
      ]
    }
  ]
}